{
 "cells": [
  {
   "cell_type": "code",
   "execution_count": 1,
   "metadata": {},
   "outputs": [],
   "source": [
    "import pickle\n",
    "import numpy\n",
    "import matplotlib.pyplot as plt\n",
    "import sys\n",
    "sys.path.append(\"../tools/\")\n",
    "from feature_format import featureFormat, targetFeatureSplit"
   ]
  },
  {
   "cell_type": "code",
   "execution_count": 2,
   "metadata": {},
   "outputs": [],
   "source": [
    "def Draw(pred, features, poi, mark_poi=False, name=\"image.png\", f1_name=\"feature 1\", f2_name=\"feature 2\"):\n",
    "    \"\"\" some plotting code designed to help you visualize your clusters \"\"\"\n",
    "\n",
    "    ### plot each cluster with a different color--add more colors for\n",
    "    ### drawing more than five clusters\n",
    "    colors = [\"b\", \"c\", \"k\", \"m\", \"g\"]\n",
    "    for ii, _ in enumerate(pred):\n",
    "        plt.scatter(features[ii][0], features[ii][1], color = colors[pred[ii]])\n",
    "\n",
    "    ### if you like, place red stars over points that are POIs (just for funsies)\n",
    "    if mark_poi:\n",
    "        for ii, _ in enumerate(pred):\n",
    "            if poi[ii]:\n",
    "                plt.scatter(features[ii][0], features[ii][1], color=\"r\", marker=\"*\")\n",
    "    plt.xlabel(f1_name)\n",
    "    plt.ylabel(f2_name)\n",
    "    plt.savefig(name)\n",
    "    plt.show()\n"
   ]
  },
  {
   "cell_type": "code",
   "execution_count": 3,
   "metadata": {},
   "outputs": [],
   "source": [
    "### load in the dict of dicts containing all the data on each person in the dataset\n",
    "data_dict = pickle.load( open(\"../final_project/final_project_dataset.pkl\", \"r\") )"
   ]
  },
  {
   "cell_type": "code",
   "execution_count": 4,
   "metadata": {},
   "outputs": [
    {
     "data": {
      "text/plain": [
       "{'bonus': 97343619,\n",
       " 'deferral_payments': 32083396,\n",
       " 'deferred_income': -27992891,\n",
       " 'director_fees': 1398517,\n",
       " 'email_address': 'NaN',\n",
       " 'exercised_stock_options': 311764000,\n",
       " 'expenses': 5235198,\n",
       " 'from_messages': 'NaN',\n",
       " 'from_poi_to_this_person': 'NaN',\n",
       " 'from_this_person_to_poi': 'NaN',\n",
       " 'loan_advances': 83925000,\n",
       " 'long_term_incentive': 48521928,\n",
       " 'other': 42667589,\n",
       " 'poi': False,\n",
       " 'restricted_stock': 130322299,\n",
       " 'restricted_stock_deferred': -7576788,\n",
       " 'salary': 26704229,\n",
       " 'shared_receipt_with_poi': 'NaN',\n",
       " 'to_messages': 'NaN',\n",
       " 'total_payments': 309886585,\n",
       " 'total_stock_value': 434509511}"
      ]
     },
     "execution_count": 4,
     "metadata": {},
     "output_type": "execute_result"
    }
   ],
   "source": [
    "### there's an outlier--remove it! \n",
    "data_dict.pop(\"TOTAL\", 0)"
   ]
  },
  {
   "cell_type": "code",
   "execution_count": 5,
   "metadata": {},
   "outputs": [],
   "source": [
    "def select_data(features_list):\n",
    "    data = featureFormat(data_dict, features_list )\n",
    "    poi, finance_features = targetFeatureSplit( data )\n",
    "    return poi, finance_features"
   ]
  },
  {
   "cell_type": "code",
   "execution_count": 6,
   "metadata": {},
   "outputs": [],
   "source": [
    "def draw_scatter_plot():\n",
    "    if len(features_list) == 3:\n",
    "        for f1, f2 in finance_features:\n",
    "            plt.scatter( f1, f2 )\n",
    "        plt.show()\n",
    "    elif len(features_list) == 4:\n",
    "        for f1, f2, _ in finance_features:\n",
    "            plt.scatter( f1, f2 )\n",
    "        plt.show()"
   ]
  },
  {
   "cell_type": "code",
   "execution_count": 7,
   "metadata": {},
   "outputs": [],
   "source": [
    "from sklearn.cluster import KMeans\n",
    "\n",
    "def create_preds(n_clusters):\n",
    "    km = KMeans(n_clusters=n_clusters)\n",
    "    pred = km.fit_predict(finance_features)\n",
    "    return pred"
   ]
  },
  {
   "cell_type": "code",
   "execution_count": 8,
   "metadata": {},
   "outputs": [],
   "source": [
    "def draw_clusters(name):\n",
    "    ### rename the \"name\" parameter when you change the number of features\n",
    "    ### so that the figure gets saved to a different file\n",
    "\n",
    "    try:\n",
    "        Draw(pred, finance_features, poi, mark_poi=False, name=name, f1_name=feature_1, f2_name=feature_2)\n",
    "    except NameError:\n",
    "        print \"no predictions object named pred found, no clusters to plot\""
   ]
  },
  {
   "cell_type": "markdown",
   "metadata": {},
   "source": [
    "## For 2 Features"
   ]
  },
  {
   "cell_type": "code",
   "execution_count": 9,
   "metadata": {},
   "outputs": [],
   "source": [
    "### the input features we want to use \n",
    "### can be any key in the person-level dictionary (salary, director_fees, etc.) \n",
    "feature_1 = \"salary\"\n",
    "feature_2 = \"exercised_stock_options\"\n",
    "feature_3 = \"total_payments\"\n",
    "poi  = \"poi\""
   ]
  },
  {
   "cell_type": "code",
   "execution_count": 10,
   "metadata": {},
   "outputs": [],
   "source": [
    "features_list = [poi, feature_1, feature_2]\n",
    "poi, finance_features = select_data(features_list)"
   ]
  },
  {
   "cell_type": "code",
   "execution_count": 11,
   "metadata": {},
   "outputs": [
    {
     "data": {
      "image/png": "[encoded data removed]",
      "text/plain": [
       "<Figure size 432x288 with 1 Axes>"
      ]
     },
     "metadata": {
      "needs_background": "light"
     },
     "output_type": "display_data"
    }
   ],
   "source": [
    "draw_scatter_plot()"
   ]
  },
  {
   "cell_type": "code",
   "execution_count": 12,
   "metadata": {},
   "outputs": [],
   "source": [
    "pred = create_preds(2)"
   ]
  },
  {
   "cell_type": "code",
   "execution_count": 13,
   "metadata": {},
   "outputs": [
    {
     "data": {
      "image/png": "[encoded data removed]",
      "text/plain": [
       "<Figure size 432x288 with 1 Axes>"
      ]
     },
     "metadata": {
      "needs_background": "light"
     },
     "output_type": "display_data"
    }
   ],
   "source": [
    "draw_clusters('2clusters.pdf')"
   ]
  },
  {
   "cell_type": "markdown",
   "metadata": {},
   "source": [
    "## For 3 Features"
   ]
  },
  {
   "cell_type": "code",
   "execution_count": 14,
   "metadata": {},
   "outputs": [],
   "source": [
    "feature_1 = \"salary\"\n",
    "feature_2 = \"exercised_stock_options\"\n",
    "feature_3 = \"total_payments\"\n",
    "poi  = \"poi\""
   ]
  },
  {
   "cell_type": "code",
   "execution_count": 15,
   "metadata": {},
   "outputs": [],
   "source": [
    "features_list = [poi, feature_1, feature_2, feature_3]\n",
    "poi, finance_features = select_data([poi, feature_1, feature_2, feature_3])"
   ]
  },
  {
   "cell_type": "code",
   "execution_count": 16,
   "metadata": {},
   "outputs": [
    {
     "data": {
      "image/png": "[encoded data removed]",
      "text/plain": [
       "<Figure size 432x288 with 1 Axes>"
      ]
     },
     "metadata": {
      "needs_background": "light"
     },
     "output_type": "display_data"
    }
   ],
   "source": [
    "draw_scatter_plot()"
   ]
  },
  {
   "cell_type": "code",
   "execution_count": 17,
   "metadata": {},
   "outputs": [],
   "source": [
    "pred = create_preds(3)"
   ]
  },
  {
   "cell_type": "code",
   "execution_count": 18,
   "metadata": {},
   "outputs": [
    {
     "data": {
      "image/png": "[encoded data removed]",
      "text/plain": [
       "<Figure size 432x288 with 1 Axes>"
      ]
     },
     "metadata": {
      "needs_background": "light"
     },
     "output_type": "display_data"
    }
   ],
   "source": [
    "draw_clusters('3clusters.pdf')"
   ]
  },
  {
   "cell_type": "markdown",
   "metadata": {},
   "source": [
    "### Q. In the scatterplot that pops up, are the clusters what you expected?\n",
    "#### A. More or less"
   ]
  },
  {
   "cell_type": "markdown",
   "metadata": {},
   "source": [
    "### Q. Do any points switch clusters? How many?\n",
    "#### A. 4"
   ]
  },
  {
   "cell_type": "markdown",
   "metadata": {},
   "source": [
    "### What are the maximum and minimum values taken by the “exercised_stock_options” feature used in this example?"
   ]
  },
  {
   "cell_type": "code",
   "execution_count": 19,
   "metadata": {},
   "outputs": [],
   "source": [
    "exercised_stock_options = []\n",
    "for k,v in data_dict.items():\n",
    "    if data_dict[k]['exercised_stock_options'] != 'NaN':\n",
    "        exercised_stock_options.append(int(data_dict[k]['exercised_stock_options']))"
   ]
  },
  {
   "cell_type": "code",
   "execution_count": 20,
   "metadata": {},
   "outputs": [
    {
     "data": {
      "text/plain": [
       "34348384"
      ]
     },
     "execution_count": 20,
     "metadata": {},
     "output_type": "execute_result"
    }
   ],
   "source": [
    "max(numpy.array(exercised_stock_options))"
   ]
  },
  {
   "cell_type": "code",
   "execution_count": 21,
   "metadata": {},
   "outputs": [
    {
     "data": {
      "text/plain": [
       "3285"
      ]
     },
     "execution_count": 21,
     "metadata": {},
     "output_type": "execute_result"
    }
   ],
   "source": [
    "min(numpy.array(exercised_stock_options))"
   ]
  },
  {
   "cell_type": "markdown",
   "metadata": {},
   "source": [
    "### What are the maximum and minimum values taken by “salary”?"
   ]
  },
  {
   "cell_type": "code",
   "execution_count": 22,
   "metadata": {},
   "outputs": [],
   "source": [
    "salary = []\n",
    "for k,v in data_dict.items():\n",
    "    if data_dict[k]['salary'] != 'NaN':\n",
    "        salary.append(int(data_dict[k]['salary']))"
   ]
  },
  {
   "cell_type": "code",
   "execution_count": 23,
   "metadata": {},
   "outputs": [
    {
     "data": {
      "text/plain": [
       "1111258"
      ]
     },
     "execution_count": 23,
     "metadata": {},
     "output_type": "execute_result"
    }
   ],
   "source": [
    "max(numpy.array(salary))"
   ]
  },
  {
   "cell_type": "code",
   "execution_count": 24,
   "metadata": {},
   "outputs": [
    {
     "data": {
      "text/plain": [
       "477"
      ]
     },
     "execution_count": 24,
     "metadata": {},
     "output_type": "execute_result"
    }
   ],
   "source": [
    "min(numpy.array(salary))"
   ]
  },
  {
   "cell_type": "markdown",
   "metadata": {},
   "source": [
    "### For 2 features with scaling"
   ]
  },
  {
   "cell_type": "code",
   "execution_count": 25,
   "metadata": {},
   "outputs": [],
   "source": [
    "feature_1 = \"salary\"\n",
    "feature_2 = \"exercised_stock_options\"\n",
    "feature_3 = \"total_payments\"\n",
    "poi  = \"poi\"\n",
    "features_list = [poi, feature_1, feature_2]\n",
    "poi, finance_features = select_data(features_list)"
   ]
  },
  {
   "cell_type": "code",
   "execution_count": 26,
   "metadata": {},
   "outputs": [
    {
     "data": {
      "image/png": "[encoded data removed]",
      "text/plain": [
       "<Figure size 432x288 with 1 Axes>"
      ]
     },
     "metadata": {
      "needs_background": "light"
     },
     "output_type": "display_data"
    }
   ],
   "source": [
    "draw_scatter_plot()"
   ]
  },
  {
   "cell_type": "code",
   "execution_count": 27,
   "metadata": {},
   "outputs": [
    {
     "data": {
      "text/plain": [
       "MinMaxScaler(copy=True, feature_range=(0, 1))"
      ]
     },
     "execution_count": 27,
     "metadata": {},
     "output_type": "execute_result"
    }
   ],
   "source": [
    "from sklearn.preprocessing import MinMaxScaler\n",
    "minmax = MinMaxScaler()\n",
    "minmax.fit(finance_features)"
   ]
  },
  {
   "cell_type": "code",
   "execution_count": 32,
   "metadata": {},
   "outputs": [],
   "source": [
    "finance_features = minmax.transform(finance_features)"
   ]
  },
  {
   "cell_type": "code",
   "execution_count": 42,
   "metadata": {},
   "outputs": [
    {
     "data": {
      "text/plain": [
       "array([[3.29165684e-01, 0.00000000e+00],\n",
       "       [2.40360024e-01, 1.94493691e-01],\n",
       "       [1.53826564e-01, 1.42374791e-01],\n",
       "       [0.00000000e+00, 1.89776031e-02],\n",
       "       [2.18934757e-01, 1.61230322e-01],\n",
       "       [2.40351925e-01, 0.00000000e+00],\n",
       "       [0.00000000e+00, 1.43671679e-02],\n",
       "       [3.33359130e-01, 3.21428222e-02],\n",
       "       [0.00000000e+00, 1.51697646e-01],\n",
       "       [1.77358453e-01, 2.56282799e-02],\n",
       "       [1.17636049e-01, 6.64592547e-02],\n",
       "       [2.59695768e-01, 0.00000000e+00],\n",
       "       [2.23661832e-01, 2.22809026e-02],\n",
       "       [2.31706768e-01, 0.00000000e+00],\n",
       "       [0.00000000e+00, 6.45816409e-02],\n",
       "       [0.00000000e+00, 1.08361721e-02],\n",
       "       [2.59653474e-01, 0.00000000e+00],\n",
       "       [2.26458662e-01, 3.07531207e-02],\n",
       "       [2.59667872e-01, 5.38782261e-03],\n",
       "       [5.73620167e-02, 0.00000000e+00],\n",
       "       [0.00000000e+00, 2.99964330e-02],\n",
       "       [3.21339419e-01, 1.26542896e-01],\n",
       "       [2.44265508e-01, 2.35941231e-03],\n",
       "       [0.00000000e+00, 9.56376871e-05],\n",
       "       [2.73662822e-01, 4.19786270e-02],\n",
       "       [1.69107444e-01, 0.00000000e+00],\n",
       "       [1.92237086e-01, 4.26725752e-02],\n",
       "       [2.24251254e-01, 4.76074216e-02],\n",
       "       [0.00000000e+00, 2.87402167e-03],\n",
       "       [2.08169480e-01, 0.00000000e+00],\n",
       "       [1.63998819e-01, 1.75099358e-02],\n",
       "       [1.90584005e-01, 0.00000000e+00],\n",
       "       [0.00000000e+00, 2.47603206e-02],\n",
       "       [0.00000000e+00, 1.93422491e-02],\n",
       "       [2.01847816e-01, 0.00000000e+00],\n",
       "       [2.46338834e-01, 0.00000000e+00],\n",
       "       [3.05318837e-01, 1.21082698e-01],\n",
       "       [1.94898034e-01, 4.72917736e-02],\n",
       "       [1.89424958e-01, 5.90381486e-02],\n",
       "       [2.45559537e-01, 1.27084581e-02],\n",
       "       [4.29243254e-04, 1.17797594e-01],\n",
       "       [0.00000000e+00, 1.08229255e-02],\n",
       "       [2.42136390e-01, 1.76962328e-02],\n",
       "       [3.85850990e-01, 5.34394282e-02],\n",
       "       [1.90634398e-01, 4.72917736e-02],\n",
       "       [0.00000000e+00, 1.20203035e-02],\n",
       "       [1.85484379e-01, 5.05933554e-04],\n",
       "       [1.56800671e-01, 0.00000000e+00],\n",
       "       [4.59266885e-01, 9.55782956e-02],\n",
       "       [3.28490774e-01, 4.72514224e-02],\n",
       "       [3.28603259e-01, 6.67022064e-02],\n",
       "       [1.46481735e-01, 3.96634380e-02],\n",
       "       [0.00000000e+00, 4.05055446e-03],\n",
       "       [2.12783170e-01, 7.42206970e-02],\n",
       "       [9.64961332e-01, 1.00000000e+00],\n",
       "       [2.35333289e-01, 0.00000000e+00],\n",
       "       [2.96131051e-01, 4.76597094e-02],\n",
       "       [0.00000000e+00, 2.20476457e-02],\n",
       "       [1.66387104e-01, 0.00000000e+00],\n",
       "       [1.72784358e-01, 2.42331633e-03],\n",
       "       [2.37040363e-01, 1.47536781e-02],\n",
       "       [2.36365452e-01, 5.45877209e-03],\n",
       "       [0.00000000e+00, 2.21133256e-02],\n",
       "       [0.00000000e+00, 5.10581808e-02],\n",
       "       [3.36667992e-01, 1.77228134e-02],\n",
       "       [2.50707756e-01, 0.00000000e+00],\n",
       "       [0.00000000e+00, 2.85399162e-04],\n",
       "       [1.79217607e-01, 1.93447529e-02],\n",
       "       [0.00000000e+00, 1.73338577e-03],\n",
       "       [8.71444795e-02, 2.18614040e-01],\n",
       "       [7.27265855e-02, 4.65710701e-02],\n",
       "       [1.92573642e-01, 2.77490784e-02],\n",
       "       [1.89597735e-01, 4.22689172e-02],\n",
       "       [1.99857279e-01, 1.29626943e-01],\n",
       "       [3.96575773e-01, 0.00000000e+00],\n",
       "       [0.00000000e+00, 9.99854899e-03],\n",
       "       [2.16141526e-01, 0.00000000e+00],\n",
       "       [3.78522359e-01, 5.76276747e-01],\n",
       "       [2.47558173e-01, 2.47467246e-02],\n",
       "       [2.82821811e-01, 3.42231530e-03],\n",
       "       [8.54356054e-02, 1.53328261e-01],\n",
       "       [2.15523308e-01, 0.00000000e+00],\n",
       "       [1.00000000e+00, 5.60433935e-01],\n",
       "       [0.00000000e+00, 4.15294356e-02],\n",
       "       [0.00000000e+00, 2.58012429e-02],\n",
       "       [5.95271305e-03, 0.00000000e+00],\n",
       "       [5.89455374e-01, 8.38409166e-04],\n",
       "       [3.63856098e-01, 5.88687957e-02],\n",
       "       [0.00000000e+00, 3.85630369e-02],\n",
       "       [2.33965470e-01, 4.85688060e-02],\n",
       "       [2.85750924e-01, 3.77615727e-02],\n",
       "       [0.00000000e+00, 1.49269177e-01],\n",
       "       [1.81735475e-01, 5.03529074e-02],\n",
       "       [2.23301879e-01, 8.18300506e-03],\n",
       "       [0.00000000e+00, 1.25697325e-02],\n",
       "       [0.00000000e+00, 7.50594264e-03],\n",
       "       [0.00000000e+00, 2.19796658e-02],\n",
       "       [6.87500112e-02, 1.21131521e-01],\n",
       "       [2.36477938e-01, 2.38490259e-01],\n",
       "       [0.00000000e+00, 7.58256924e-02],\n",
       "       [2.35596954e-01, 0.00000000e+00],\n",
       "       [2.23185795e-01, 2.40321058e-02],\n",
       "       [0.00000000e+00, 5.61185062e-03],\n",
       "       [2.06328323e-01, 1.16592967e-02],\n",
       "       [2.08723807e-01, 1.85233168e-02],\n",
       "       [1.98876409e-01, 0.00000000e+00],\n",
       "       [1.42543856e-01, 2.41890623e-01],\n",
       "       [0.00000000e+00, 8.95706302e-01],\n",
       "       [2.25060247e-01, 4.51264025e-02],\n",
       "       [4.43078925e-01, 2.57127468e-01],\n",
       "       [9.54712587e-01, 3.03755717e-01],\n",
       "       [2.35659946e-01, 4.47303926e-01],\n",
       "       [2.15675388e-01, 0.00000000e+00],\n",
       "       [0.00000000e+00, 5.13497229e-03],\n",
       "       [2.74092965e-01, 2.73741262e-02],\n",
       "       [2.78914527e-01, 1.95565823e-02],\n",
       "       [7.67364554e-02, 6.30356293e-02],\n",
       "       [2.22574776e-01, 1.72133280e-02],\n",
       "       [3.14496724e-01, 6.02737526e-02],\n",
       "       [2.97452077e-01, 7.40300621e-02],\n",
       "       [3.73620707e-01, 0.00000000e+00],\n",
       "       [2.38661049e-01, 9.26171665e-02],\n",
       "       [2.50707756e-01, 2.22985745e-02],\n",
       "       [2.47444788e-01, 1.12007598e-02]])"
      ]
     },
     "execution_count": 42,
     "metadata": {},
     "output_type": "execute_result"
    }
   ],
   "source": [
    "finance_features"
   ]
  },
  {
   "cell_type": "code",
   "execution_count": 33,
   "metadata": {},
   "outputs": [],
   "source": [
    "pred = create_preds(2)"
   ]
  },
  {
   "cell_type": "code",
   "execution_count": 34,
   "metadata": {},
   "outputs": [
    {
     "data": {
      "image/png": "[encoded data removed]",
      "text/plain": [
       "<Figure size 432x288 with 1 Axes>"
      ]
     },
     "metadata": {
      "needs_background": "light"
     },
     "output_type": "display_data"
    }
   ],
   "source": [
    "draw_clusters('2clusters_withScaling.pdf')"
   ]
  },
  {
   "cell_type": "markdown",
   "metadata": {},
   "source": [
    "### What would be the rescaled value of a `salary` feature that had an original value of \\$ 200,000 and an \n",
    "### `exercised_stock_options` feature of $1 million?"
   ]
  },
  {
   "cell_type": "code",
   "execution_count": 43,
   "metadata": {},
   "outputs": [
    {
     "data": {
      "text/plain": [
       "array([[0.17997621, 0.02911345]])"
      ]
     },
     "execution_count": 43,
     "metadata": {},
     "output_type": "execute_result"
    }
   ],
   "source": [
    "minmax.transform(numpy.array([[200000, 1000000]]))"
   ]
  },
  {
   "cell_type": "code",
   "execution_count": null,
   "metadata": {},
   "outputs": [],
   "source": []
  }
 ],
 "metadata": {
  "kernelspec": {
   "display_name": "Python [conda env:udacityIntro2ML]",
   "language": "python",
   "name": "conda-env-udacityIntro2ML-py"
  },
  "language_info": {
   "codemirror_mode": {
    "name": "ipython",
    "version": 2
   },
   "file_extension": ".py",
   "mimetype": "text/x-python",
   "name": "python",
   "nbconvert_exporter": "python",
   "pygments_lexer": "ipython2",
   "version": "2.7.18"
  }
 },
 "nbformat": 4,
 "nbformat_minor": 4
}
